{
  "nbformat": 4,
  "nbformat_minor": 0,
  "metadata": {
    "colab": {
      "name": "Email Spam Classification .ipynb",
      "provenance": [],
      "collapsed_sections": [],
      "toc_visible": true,
      "authorship_tag": "ABX9TyMZkc/rpWkfuA1Z2Y329KGq",
      "include_colab_link": true
    },
    "kernelspec": {
      "name": "python3",
      "display_name": "Python 3"
    }
  },
  "cells": [
    {
      "cell_type": "markdown",
      "metadata": {
        "id": "view-in-github",
        "colab_type": "text"
      },
      "source": [
        "<a href=\"https://colab.research.google.com/github/Awantika3/DScode/blob/master/Email_Spam_Classification_.ipynb\" target=\"_parent\"><img src=\"https://colab.research.google.com/assets/colab-badge.svg\" alt=\"Open In Colab\"/></a>"
      ]
    },
    {
      "cell_type": "markdown",
      "metadata": {
        "id": "NRISHVXdoSmY",
        "colab_type": "text"
      },
      "source": [
        "Email Spam Classification using support vector machine classification technique and scikit-learn.\n",
        "\n",
        "dataset : https://drive.google.com/drive/u/0/my-drive"
      ]
    },
    {
      "cell_type": "markdown",
      "metadata": {
        "id": "OvSqi_UA6C9v",
        "colab_type": "text"
      },
      "source": [
        "## Importing the libraries"
      ]
    },
    {
      "cell_type": "code",
      "metadata": {
        "id": "hx7anNvBolOC",
        "colab_type": "code",
        "colab": {}
      },
      "source": [
        "import numpy as np\n",
        "import matplotlib.pyplot as plt\n",
        "import pandas as pd"
      ],
      "execution_count": 0,
      "outputs": []
    },
    {
      "cell_type": "markdown",
      "metadata": {
        "id": "v83mM3HHo5Q0",
        "colab_type": "text"
      },
      "source": [
        "## Load Dataset\n"
      ]
    },
    {
      "cell_type": "code",
      "metadata": {
        "id": "NdcIkg0co_E-",
        "colab_type": "code",
        "outputId": "677c1484-59a5-49cd-df28-b2737950a387",
        "colab": {
          "base_uri": "https://localhost:8080/",
          "height": 119
        }
      },
      "source": [
        "dataframe = pd.read_csv(\"spam.csv\")\n",
        "print(dataframe.head())\n",
        "x = dataframe[\"EmailText\"]\n",
        "y = dataframe[\"Label\"]"
      ],
      "execution_count": 12,
      "outputs": [
        {
          "output_type": "stream",
          "text": [
            "  Label                                          EmailText\n",
            "0   ham  Go until jurong point, crazy.. Available only ...\n",
            "1   ham                      Ok lar... Joking wif u oni...\n",
            "2  spam  Free entry in 2 a wkly comp to win FA Cup fina...\n",
            "3   ham  U dun say so early hor... U c already then say...\n",
            "4   ham  Nah I don't think he goes to usf, he lives aro...\n"
          ],
          "name": "stdout"
        }
      ]
    },
    {
      "cell_type": "markdown",
      "metadata": {
        "id": "fDMOTQxhpMxN",
        "colab_type": "text"
      },
      "source": [
        "## Splitting the dataset into the Training set and Test set"
      ]
    },
    {
      "cell_type": "code",
      "metadata": {
        "id": "HNB3mPcptwNT",
        "colab_type": "code",
        "colab": {}
      },
      "source": [
        "from sklearn.model_selection import train_test_split\n",
        "x_train, x_test, y_train, y_test = train_test_split(x,y, test_size = 0.25, random_state = 0)"
      ],
      "execution_count": 0,
      "outputs": []
    },
    {
      "cell_type": "code",
      "metadata": {
        "id": "ww1nSF3n4kQj",
        "colab_type": "code",
        "colab": {
          "base_uri": "https://localhost:8080/",
          "height": 221
        },
        "outputId": "48a41ffa-2edb-40e8-ab6b-ac26c9ef6709"
      },
      "source": [
        "print(x_train)"
      ],
      "execution_count": 22,
      "outputs": [
        {
          "output_type": "stream",
          "text": [
            "872                       I'll text you when I drop x off\n",
            "831     Hi mate its RV did u hav a nice hol just a mes...\n",
            "1273    network operator. The service is free. For T &...\n",
            "3314    FREE MESSAGE Activate your 500 FREE Text Messa...\n",
            "4929    Hi, the SEXYCHAT girls are waiting for you to ...\n",
            "                              ...                        \n",
            "4931                Match started.india  &lt;#&gt;  for 2\n",
            "3264    44 7732584351, Do you want a New Nokia 3510i c...\n",
            "1653    I was at bugis juz now wat... But now i'm walk...\n",
            "2607    :-) yeah! Lol. Luckily i didn't have a starrin...\n",
            "2732    How dare you stupid. I wont tell anything to y...\n",
            "Name: EmailText, Length: 4179, dtype: object\n"
          ],
          "name": "stdout"
        }
      ]
    },
    {
      "cell_type": "code",
      "metadata": {
        "id": "A_kLrKDX4kXy",
        "colab_type": "code",
        "colab": {
          "base_uri": "https://localhost:8080/",
          "height": 221
        },
        "outputId": "b52f845b-df91-4edb-faa0-e60490aaafb0"
      },
      "source": [
        "print(x_test)"
      ],
      "execution_count": 23,
      "outputs": [
        {
          "output_type": "stream",
          "text": [
            "4456    Aight should I just plan to come up later toni...\n",
            "690                                    Was the farm open?\n",
            "944     I sent my scores to sophas and i had to do sec...\n",
            "3768    Was gr8 to see that message. So when r u leavi...\n",
            "1189    In that case I guess I'll see you at campus lodge\n",
            "                              ...                        \n",
            "1889                     I gotta collect da car at 6 lei.\n",
            "2250    I am getting threats from your sales executive...\n",
            "2915      What time should I tell my friend to be around?\n",
            "1282    Ever green quote ever told by Jerry in cartoon...\n",
            "1206    As a SIM subscriber, you are selected to recei...\n",
            "Name: EmailText, Length: 1393, dtype: object\n"
          ],
          "name": "stdout"
        }
      ]
    },
    {
      "cell_type": "code",
      "metadata": {
        "id": "KDo5hXZU4kpG",
        "colab_type": "code",
        "colab": {
          "base_uri": "https://localhost:8080/",
          "height": 221
        },
        "outputId": "60d3c839-a9e6-44cd-9b2d-1c0e8a94db96"
      },
      "source": [
        "print(y_train)"
      ],
      "execution_count": 25,
      "outputs": [
        {
          "output_type": "stream",
          "text": [
            "872      ham\n",
            "831      ham\n",
            "1273    spam\n",
            "3314    spam\n",
            "4929    spam\n",
            "        ... \n",
            "4931     ham\n",
            "3264    spam\n",
            "1653     ham\n",
            "2607     ham\n",
            "2732     ham\n",
            "Name: Label, Length: 4179, dtype: object\n"
          ],
          "name": "stdout"
        }
      ]
    },
    {
      "cell_type": "code",
      "metadata": {
        "id": "nrBDnvjT4k23",
        "colab_type": "code",
        "colab": {
          "base_uri": "https://localhost:8080/",
          "height": 221
        },
        "outputId": "12cab0af-17c5-409e-83ed-41e22ad6a84e"
      },
      "source": [
        "print(y_test)"
      ],
      "execution_count": 26,
      "outputs": [
        {
          "output_type": "stream",
          "text": [
            "4456     ham\n",
            "690      ham\n",
            "944      ham\n",
            "3768     ham\n",
            "1189     ham\n",
            "        ... \n",
            "1889     ham\n",
            "2250     ham\n",
            "2915     ham\n",
            "1282     ham\n",
            "1206    spam\n",
            "Name: Label, Length: 1393, dtype: object\n"
          ],
          "name": "stdout"
        }
      ]
    },
    {
      "cell_type": "markdown",
      "metadata": {
        "id": "miTBspxlveUU",
        "colab_type": "text"
      },
      "source": [
        "## Extract Features"
      ]
    },
    {
      "cell_type": "code",
      "metadata": {
        "id": "tAe1pX4-ve-A",
        "colab_type": "code",
        "colab": {}
      },
      "source": [
        "from sklearn.feature_extraction.text import CountVectorizer\n",
        "cv = CountVectorizer()\n",
        "features = cv.fit_transform(x_train)"
      ],
      "execution_count": 0,
      "outputs": []
    },
    {
      "cell_type": "code",
      "metadata": {
        "id": "Soyuvj1b45C9",
        "colab_type": "code",
        "colab": {
          "base_uri": "https://localhost:8080/",
          "height": 884
        },
        "outputId": "1bd69727-8add-4c83-a2fb-9f4944781f3e"
      },
      "source": [
        "print(features)"
      ],
      "execution_count": 24,
      "outputs": [
        {
          "output_type": "stream",
          "text": [
            "  (0, 2355)\t1\n",
            "  (0, 3943)\t1\n",
            "  (0, 4635)\t1\n",
            "  (0, 6436)\t1\n",
            "  (0, 7102)\t1\n",
            "  (0, 7322)\t1\n",
            "  (1, 805)\t1\n",
            "  (1, 1957)\t1\n",
            "  (1, 2197)\t1\n",
            "  (1, 2352)\t1\n",
            "  (1, 3183)\t1\n",
            "  (1, 3187)\t1\n",
            "  (1, 3225)\t1\n",
            "  (1, 3251)\t1\n",
            "  (1, 3289)\t1\n",
            "  (1, 3452)\t1\n",
            "  (1, 3572)\t1\n",
            "  (1, 3677)\t1\n",
            "  (1, 4150)\t1\n",
            "  (1, 4221)\t1\n",
            "  (1, 4516)\t1\n",
            "  (1, 4635)\t1\n",
            "  (1, 5495)\t1\n",
            "  (1, 5555)\t1\n",
            "  (1, 5556)\t1\n",
            "  :\t:\n",
            "  (4176, 6622)\t1\n",
            "  (4176, 6984)\t1\n",
            "  (4176, 7010)\t1\n",
            "  (4176, 7017)\t1\n",
            "  (4176, 7106)\t1\n",
            "  (4177, 2199)\t1\n",
            "  (4177, 3184)\t1\n",
            "  (4177, 3894)\t1\n",
            "  (4177, 3965)\t1\n",
            "  (4177, 4030)\t1\n",
            "  (4177, 5504)\t1\n",
            "  (4177, 6108)\t1\n",
            "  (4177, 7295)\t1\n",
            "  (4177, 7322)\t1\n",
            "  (4178, 791)\t1\n",
            "  (4178, 932)\t1\n",
            "  (4178, 2068)\t1\n",
            "  (4178, 3206)\t1\n",
            "  (4178, 3343)\t1\n",
            "  (4178, 6206)\t1\n",
            "  (4178, 6348)\t1\n",
            "  (4178, 6406)\t1\n",
            "  (4178, 6576)\t2\n",
            "  (4178, 7201)\t2\n",
            "  (4178, 7322)\t3\n"
          ],
          "name": "stdout"
        }
      ]
    },
    {
      "cell_type": "markdown",
      "metadata": {
        "id": "RO7hOhUjwW_h",
        "colab_type": "text"
      },
      "source": [
        "## Training the SVM model on the Training set"
      ]
    },
    {
      "cell_type": "code",
      "metadata": {
        "id": "iDpAhFi3wXk0",
        "colab_type": "code",
        "colab": {
          "base_uri": "https://localhost:8080/",
          "height": 85
        },
        "outputId": "87de46fe-f7a2-4e3d-f6ec-0f5d775bd170"
      },
      "source": [
        "from sklearn.svm import SVC\n",
        "classifier = SVC(kernel = 'linear', random_state = 0)\n",
        "classifier.fit(features, y_train)"
      ],
      "execution_count": 15,
      "outputs": [
        {
          "output_type": "execute_result",
          "data": {
            "text/plain": [
              "SVC(C=1.0, break_ties=False, cache_size=200, class_weight=None, coef0=0.0,\n",
              "    decision_function_shape='ovr', degree=3, gamma='scale', kernel='linear',\n",
              "    max_iter=-1, probability=False, random_state=0, shrinking=True, tol=0.001,\n",
              "    verbose=False)"
            ]
          },
          "metadata": {
            "tags": []
          },
          "execution_count": 15
        }
      ]
    },
    {
      "cell_type": "markdown",
      "metadata": {
        "id": "TaLkb5bnyRNb",
        "colab_type": "text"
      },
      "source": [
        "## Test accuracy"
      ]
    },
    {
      "cell_type": "code",
      "metadata": {
        "id": "qOmIOC8Mz5tq",
        "colab_type": "code",
        "colab": {
          "base_uri": "https://localhost:8080/",
          "height": 34
        },
        "outputId": "ac998bb7-63eb-40bb-f69c-76285ea23788"
      },
      "source": [
        "features_test = cv.transform(x_test)\n",
        "print(\"Accuracy of the model is:\", classifier.score(features_test, y_test))"
      ],
      "execution_count": 17,
      "outputs": [
        {
          "output_type": "stream",
          "text": [
            "Accuracy of the model is: 0.9834888729361091\n"
          ],
          "name": "stdout"
        }
      ]
    }
  ]
}