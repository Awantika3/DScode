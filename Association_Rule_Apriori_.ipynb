{
  "nbformat": 4,
  "nbformat_minor": 0,
  "metadata": {
    "colab": {
      "name": "Association_Rule_Apriori .ipynb",
      "provenance": [],
      "collapsed_sections": [],
      "toc_visible": true,
      "authorship_tag": "ABX9TyNNa1TYD7axeYJwpmTw2fsD",
      "include_colab_link": true
    },
    "kernelspec": {
      "name": "python3",
      "display_name": "Python 3"
    }
  },
  "cells": [
    {
      "cell_type": "markdown",
      "metadata": {
        "id": "view-in-github",
        "colab_type": "text"
      },
      "source": [
        "<a href=\"https://colab.research.google.com/github/Awantika3/DScode/blob/master/Association_Rule_Apriori_.ipynb\" target=\"_parent\"><img src=\"https://colab.research.google.com/assets/colab-badge.svg\" alt=\"Open In Colab\"/></a>"
      ]
    },
    {
      "cell_type": "markdown",
      "metadata": {
        "id": "8FxuW9xWi8Oa",
        "colab_type": "text"
      },
      "source": [
        "Implementing apriori algorithm to find rules that describe association between 4654 movie lists watched over the course of month. The dataset of the movies are randomly picked, these are not real data. The given data analysed and conclusions are derived from it. \n",
        "\n",
        "Dataset: https://drive.google.com/file/d/1NpU51C19wWL2lSKIUkfgxU3MrDcUpxL0/view?usp=sharing\n"
      ]
    },
    {
      "cell_type": "markdown",
      "metadata": {
        "id": "llgv5SOBo84v",
        "colab_type": "text"
      },
      "source": [
        "## Importing the libraries"
      ]
    },
    {
      "cell_type": "code",
      "metadata": {
        "id": "IKR72_zhi7vk",
        "colab_type": "code",
        "outputId": "76a7467c-d521-4250-dbda-ee35da86b204",
        "colab": {
          "base_uri": "https://localhost:8080/",
          "height": 34
        }
      },
      "source": [
        "!pip install apyori"
      ],
      "execution_count": 26,
      "outputs": [
        {
          "output_type": "stream",
          "text": [
            "Requirement already satisfied: apyori in /usr/local/lib/python3.6/dist-packages (1.1.2)\n"
          ],
          "name": "stdout"
        }
      ]
    },
    {
      "cell_type": "code",
      "metadata": {
        "id": "ajwgF4XHpQ18",
        "colab_type": "code",
        "colab": {}
      },
      "source": [
        "import numpy as np\n",
        "import matplotlib.pyplot as plt\n",
        "import pandas as pd"
      ],
      "execution_count": 0,
      "outputs": []
    },
    {
      "cell_type": "markdown",
      "metadata": {
        "id": "oDNKDaPzpsCb",
        "colab_type": "text"
      },
      "source": [
        "## Data Preprocessing"
      ]
    },
    {
      "cell_type": "code",
      "metadata": {
        "id": "mtseSuwWpv0M",
        "colab_type": "code",
        "colab": {}
      },
      "source": [
        "dataset = pd.read_csv('Movie.csv', header = None)\n",
        "transaction = []\n",
        "for i in range(0, 4654):\n",
        "  transaction.append([str(dataset.values[i, j]) for j in range(0,20)])"
      ],
      "execution_count": 0,
      "outputs": []
    },
    {
      "cell_type": "markdown",
      "metadata": {
        "id": "oVYVwa3g3war",
        "colab_type": "text"
      },
      "source": [
        "## Training the Apriori model on the dataset"
      ]
    },
    {
      "cell_type": "code",
      "metadata": {
        "id": "P_adyXmB3043",
        "colab_type": "code",
        "colab": {}
      },
      "source": [
        "from apyori import apriori\n",
        "rules = apriori(transactions = transaction, min_support = 0.0045, min_confidence = 0.2, min_lift = 3, min_length = 2, max_length = 2)"
      ],
      "execution_count": 0,
      "outputs": []
    },
    {
      "cell_type": "markdown",
      "metadata": {
        "id": "giCLZ_F26unb",
        "colab_type": "text"
      },
      "source": [
        "## Visualising the results"
      ]
    },
    {
      "cell_type": "markdown",
      "metadata": {
        "id": "KR893B2Q60vE",
        "colab_type": "text"
      },
      "source": [
        "## Displaying the first results coming directly from the output of the apriori function"
      ]
    },
    {
      "cell_type": "code",
      "metadata": {
        "id": "m_OQVCbl66Pg",
        "colab_type": "code",
        "colab": {
          "base_uri": "https://localhost:8080/",
          "height": 207
        },
        "outputId": "52e178d2-8070-43c1-922d-dc24720c19db"
      },
      "source": [
        "results = list(rules)\n",
        "results"
      ],
      "execution_count": 42,
      "outputs": [
        {
          "output_type": "execute_result",
          "data": {
            "text/plain": [
              "[RelationRecord(items=frozenset({'13 Hours', 'Beirut'}), support=0.0058014611087236784, ordered_statistics=[OrderedStatistic(items_base=frozenset({'13 Hours'}), items_add=frozenset({'Beirut'}), confidence=0.28421052631578947, lift=3.218286592393392)]),\n",
              " RelationRecord(items=frozenset({'London Has Fallen', 'Captain America'}), support=0.004727116458960034, ordered_statistics=[OrderedStatistic(items_base=frozenset({'London Has Fallen'}), items_add=frozenset({'Captain America'}), confidence=0.3013698630136986, lift=4.83646669815777)]),\n",
              " RelationRecord(items=frozenset({'Red Sparrow', 'Green Lantern'}), support=0.006231198968629136, ordered_statistics=[OrderedStatistic(items_base=frozenset({'Red Sparrow'}), items_add=frozenset({'Green Lantern'}), confidence=0.31868131868131866, lift=3.9030075187969926)]),\n",
              " RelationRecord(items=frozenset({'Green Lantern', 'Star Wars'}), support=0.004941985388912763, ordered_statistics=[OrderedStatistic(items_base=frozenset({'Star Wars'}), items_add=frozenset({'Green Lantern'}), confidence=0.3108108108108108, lift=3.806614509246088)]),\n",
              " RelationRecord(items=frozenset({'La La Land', 'Hunter Games'}), support=0.004941985388912763, ordered_statistics=[OrderedStatistic(items_base=frozenset({'Hunter Games'}), items_add=frozenset({'La La Land'}), confidence=0.21296296296296297, lift=4.366209822156959)]),\n",
              " RelationRecord(items=frozenset({'Star Trek', 'Intern'}), support=0.006231198968629136, ordered_statistics=[OrderedStatistic(items_base=frozenset({'Star Trek'}), items_add=frozenset({'Intern'}), confidence=0.37662337662337664, lift=3.903797761258786)]),\n",
              " RelationRecord(items=frozenset({'Kung Fu Panda', 'Jumanji'}), support=0.01461108723678556, ordered_statistics=[OrderedStatistic(items_base=frozenset({'Kung Fu Panda'}), items_add=frozenset({'Jumanji'}), confidence=0.32075471698113206, lift=3.1761541549578483)]),\n",
              " RelationRecord(items=frozenset({'Jumanji', 'Wonder Woman'}), support=0.0045122475290073055, ordered_statistics=[OrderedStatistic(items_base=frozenset({'Wonder Woman'}), items_add=frozenset({'Jumanji'}), confidence=0.30434782608695654, lift=3.0136910268270123)]),\n",
              " RelationRecord(items=frozenset({'The Spy Who Dumped Me', 'Spiderman 3'}), support=0.007520412548345509, ordered_statistics=[OrderedStatistic(items_base=frozenset({'The Spy Who Dumped Me'}), items_add=frozenset({'Spiderman 3'}), confidence=0.2916666666666667, lift=4.282071503680337)]),\n",
              " RelationRecord(items=frozenset({'The Revenant', 'Star Wars'}), support=0.0053717232488182205, ordered_statistics=[OrderedStatistic(items_base=frozenset({'Star Wars'}), items_add=frozenset({'The Revenant'}), confidence=0.3378378378378378, lift=4.624403815580285)])]"
            ]
          },
          "metadata": {
            "tags": []
          },
          "execution_count": 42
        }
      ]
    },
    {
      "cell_type": "markdown",
      "metadata": {
        "id": "guuFbGrvD2oo",
        "colab_type": "text"
      },
      "source": [
        "## Putting the results well organised into a Pandas DataFrame"
      ]
    },
    {
      "cell_type": "code",
      "metadata": {
        "id": "r7ZqBWdFD5Ip",
        "colab_type": "code",
        "colab": {}
      },
      "source": [
        "def inspect(results):\n",
        "    lhs         = [tuple(result[2][0][0])[0] for result in results]\n",
        "    rhs         = [tuple(result[2][0][1])[0] for result in results]\n",
        "    supports    = [result[1] for result in results]\n",
        "    confidences = [result[2][0][2] for result in results]\n",
        "    lifts       = [result[2][0][3] for result in results]\n",
        "    return list(zip(lhs, rhs, supports, confidences, lifts))\n",
        "resultsinDataFrame = pd.DataFrame(inspect(results), columns = ['Left Hand Side', 'Right Hand Side', 'Support', 'Confidence', 'Lift'])"
      ],
      "execution_count": 0,
      "outputs": []
    },
    {
      "cell_type": "code",
      "metadata": {
        "id": "9YrkQWQ2eZlI",
        "colab_type": "code",
        "colab": {
          "base_uri": "https://localhost:8080/",
          "height": 359
        },
        "outputId": "5daacb84-cd95-478b-be03-0b40514981f2"
      },
      "source": [
        "resultsinDataFrame"
      ],
      "execution_count": 44,
      "outputs": [
        {
          "output_type": "execute_result",
          "data": {
            "text/html": [
              "<div>\n",
              "<style scoped>\n",
              "    .dataframe tbody tr th:only-of-type {\n",
              "        vertical-align: middle;\n",
              "    }\n",
              "\n",
              "    .dataframe tbody tr th {\n",
              "        vertical-align: top;\n",
              "    }\n",
              "\n",
              "    .dataframe thead th {\n",
              "        text-align: right;\n",
              "    }\n",
              "</style>\n",
              "<table border=\"1\" class=\"dataframe\">\n",
              "  <thead>\n",
              "    <tr style=\"text-align: right;\">\n",
              "      <th></th>\n",
              "      <th>Left Hand Side</th>\n",
              "      <th>Right Hand Side</th>\n",
              "      <th>Support</th>\n",
              "      <th>Confidence</th>\n",
              "      <th>Lift</th>\n",
              "    </tr>\n",
              "  </thead>\n",
              "  <tbody>\n",
              "    <tr>\n",
              "      <th>0</th>\n",
              "      <td>13 Hours</td>\n",
              "      <td>Beirut</td>\n",
              "      <td>0.005801</td>\n",
              "      <td>0.284211</td>\n",
              "      <td>3.218287</td>\n",
              "    </tr>\n",
              "    <tr>\n",
              "      <th>1</th>\n",
              "      <td>London Has Fallen</td>\n",
              "      <td>Captain America</td>\n",
              "      <td>0.004727</td>\n",
              "      <td>0.301370</td>\n",
              "      <td>4.836467</td>\n",
              "    </tr>\n",
              "    <tr>\n",
              "      <th>2</th>\n",
              "      <td>Red Sparrow</td>\n",
              "      <td>Green Lantern</td>\n",
              "      <td>0.006231</td>\n",
              "      <td>0.318681</td>\n",
              "      <td>3.903008</td>\n",
              "    </tr>\n",
              "    <tr>\n",
              "      <th>3</th>\n",
              "      <td>Star Wars</td>\n",
              "      <td>Green Lantern</td>\n",
              "      <td>0.004942</td>\n",
              "      <td>0.310811</td>\n",
              "      <td>3.806615</td>\n",
              "    </tr>\n",
              "    <tr>\n",
              "      <th>4</th>\n",
              "      <td>Hunter Games</td>\n",
              "      <td>La La Land</td>\n",
              "      <td>0.004942</td>\n",
              "      <td>0.212963</td>\n",
              "      <td>4.366210</td>\n",
              "    </tr>\n",
              "    <tr>\n",
              "      <th>5</th>\n",
              "      <td>Star Trek</td>\n",
              "      <td>Intern</td>\n",
              "      <td>0.006231</td>\n",
              "      <td>0.376623</td>\n",
              "      <td>3.903798</td>\n",
              "    </tr>\n",
              "    <tr>\n",
              "      <th>6</th>\n",
              "      <td>Kung Fu Panda</td>\n",
              "      <td>Jumanji</td>\n",
              "      <td>0.014611</td>\n",
              "      <td>0.320755</td>\n",
              "      <td>3.176154</td>\n",
              "    </tr>\n",
              "    <tr>\n",
              "      <th>7</th>\n",
              "      <td>Wonder Woman</td>\n",
              "      <td>Jumanji</td>\n",
              "      <td>0.004512</td>\n",
              "      <td>0.304348</td>\n",
              "      <td>3.013691</td>\n",
              "    </tr>\n",
              "    <tr>\n",
              "      <th>8</th>\n",
              "      <td>The Spy Who Dumped Me</td>\n",
              "      <td>Spiderman 3</td>\n",
              "      <td>0.007520</td>\n",
              "      <td>0.291667</td>\n",
              "      <td>4.282072</td>\n",
              "    </tr>\n",
              "    <tr>\n",
              "      <th>9</th>\n",
              "      <td>Star Wars</td>\n",
              "      <td>The Revenant</td>\n",
              "      <td>0.005372</td>\n",
              "      <td>0.337838</td>\n",
              "      <td>4.624404</td>\n",
              "    </tr>\n",
              "  </tbody>\n",
              "</table>\n",
              "</div>"
            ],
            "text/plain": [
              "          Left Hand Side  Right Hand Side   Support  Confidence      Lift\n",
              "0               13 Hours           Beirut  0.005801    0.284211  3.218287\n",
              "1      London Has Fallen  Captain America  0.004727    0.301370  4.836467\n",
              "2            Red Sparrow    Green Lantern  0.006231    0.318681  3.903008\n",
              "3              Star Wars    Green Lantern  0.004942    0.310811  3.806615\n",
              "4           Hunter Games       La La Land  0.004942    0.212963  4.366210\n",
              "5              Star Trek           Intern  0.006231    0.376623  3.903798\n",
              "6          Kung Fu Panda          Jumanji  0.014611    0.320755  3.176154\n",
              "7           Wonder Woman          Jumanji  0.004512    0.304348  3.013691\n",
              "8  The Spy Who Dumped Me      Spiderman 3  0.007520    0.291667  4.282072\n",
              "9              Star Wars     The Revenant  0.005372    0.337838  4.624404"
            ]
          },
          "metadata": {
            "tags": []
          },
          "execution_count": 44
        }
      ]
    },
    {
      "cell_type": "code",
      "metadata": {
        "id": "OlPQSJ0rf5Ep",
        "colab_type": "code",
        "colab": {
          "base_uri": "https://localhost:8080/",
          "height": 359
        },
        "outputId": "7edeb14a-23d5-46a1-d869-8dcb814e3b06"
      },
      "source": [
        "resultsinDataFrame.nlargest(n = 10, columns = 'Lift')"
      ],
      "execution_count": 45,
      "outputs": [
        {
          "output_type": "execute_result",
          "data": {
            "text/html": [
              "<div>\n",
              "<style scoped>\n",
              "    .dataframe tbody tr th:only-of-type {\n",
              "        vertical-align: middle;\n",
              "    }\n",
              "\n",
              "    .dataframe tbody tr th {\n",
              "        vertical-align: top;\n",
              "    }\n",
              "\n",
              "    .dataframe thead th {\n",
              "        text-align: right;\n",
              "    }\n",
              "</style>\n",
              "<table border=\"1\" class=\"dataframe\">\n",
              "  <thead>\n",
              "    <tr style=\"text-align: right;\">\n",
              "      <th></th>\n",
              "      <th>Left Hand Side</th>\n",
              "      <th>Right Hand Side</th>\n",
              "      <th>Support</th>\n",
              "      <th>Confidence</th>\n",
              "      <th>Lift</th>\n",
              "    </tr>\n",
              "  </thead>\n",
              "  <tbody>\n",
              "    <tr>\n",
              "      <th>1</th>\n",
              "      <td>London Has Fallen</td>\n",
              "      <td>Captain America</td>\n",
              "      <td>0.004727</td>\n",
              "      <td>0.301370</td>\n",
              "      <td>4.836467</td>\n",
              "    </tr>\n",
              "    <tr>\n",
              "      <th>9</th>\n",
              "      <td>Star Wars</td>\n",
              "      <td>The Revenant</td>\n",
              "      <td>0.005372</td>\n",
              "      <td>0.337838</td>\n",
              "      <td>4.624404</td>\n",
              "    </tr>\n",
              "    <tr>\n",
              "      <th>4</th>\n",
              "      <td>Hunter Games</td>\n",
              "      <td>La La Land</td>\n",
              "      <td>0.004942</td>\n",
              "      <td>0.212963</td>\n",
              "      <td>4.366210</td>\n",
              "    </tr>\n",
              "    <tr>\n",
              "      <th>8</th>\n",
              "      <td>The Spy Who Dumped Me</td>\n",
              "      <td>Spiderman 3</td>\n",
              "      <td>0.007520</td>\n",
              "      <td>0.291667</td>\n",
              "      <td>4.282072</td>\n",
              "    </tr>\n",
              "    <tr>\n",
              "      <th>5</th>\n",
              "      <td>Star Trek</td>\n",
              "      <td>Intern</td>\n",
              "      <td>0.006231</td>\n",
              "      <td>0.376623</td>\n",
              "      <td>3.903798</td>\n",
              "    </tr>\n",
              "    <tr>\n",
              "      <th>2</th>\n",
              "      <td>Red Sparrow</td>\n",
              "      <td>Green Lantern</td>\n",
              "      <td>0.006231</td>\n",
              "      <td>0.318681</td>\n",
              "      <td>3.903008</td>\n",
              "    </tr>\n",
              "    <tr>\n",
              "      <th>3</th>\n",
              "      <td>Star Wars</td>\n",
              "      <td>Green Lantern</td>\n",
              "      <td>0.004942</td>\n",
              "      <td>0.310811</td>\n",
              "      <td>3.806615</td>\n",
              "    </tr>\n",
              "    <tr>\n",
              "      <th>0</th>\n",
              "      <td>13 Hours</td>\n",
              "      <td>Beirut</td>\n",
              "      <td>0.005801</td>\n",
              "      <td>0.284211</td>\n",
              "      <td>3.218287</td>\n",
              "    </tr>\n",
              "    <tr>\n",
              "      <th>6</th>\n",
              "      <td>Kung Fu Panda</td>\n",
              "      <td>Jumanji</td>\n",
              "      <td>0.014611</td>\n",
              "      <td>0.320755</td>\n",
              "      <td>3.176154</td>\n",
              "    </tr>\n",
              "    <tr>\n",
              "      <th>7</th>\n",
              "      <td>Wonder Woman</td>\n",
              "      <td>Jumanji</td>\n",
              "      <td>0.004512</td>\n",
              "      <td>0.304348</td>\n",
              "      <td>3.013691</td>\n",
              "    </tr>\n",
              "  </tbody>\n",
              "</table>\n",
              "</div>"
            ],
            "text/plain": [
              "          Left Hand Side  Right Hand Side   Support  Confidence      Lift\n",
              "1      London Has Fallen  Captain America  0.004727    0.301370  4.836467\n",
              "9              Star Wars     The Revenant  0.005372    0.337838  4.624404\n",
              "4           Hunter Games       La La Land  0.004942    0.212963  4.366210\n",
              "8  The Spy Who Dumped Me      Spiderman 3  0.007520    0.291667  4.282072\n",
              "5              Star Trek           Intern  0.006231    0.376623  3.903798\n",
              "2            Red Sparrow    Green Lantern  0.006231    0.318681  3.903008\n",
              "3              Star Wars    Green Lantern  0.004942    0.310811  3.806615\n",
              "0               13 Hours           Beirut  0.005801    0.284211  3.218287\n",
              "6          Kung Fu Panda          Jumanji  0.014611    0.320755  3.176154\n",
              "7           Wonder Woman          Jumanji  0.004512    0.304348  3.013691"
            ]
          },
          "metadata": {
            "tags": []
          },
          "execution_count": 45
        }
      ]
    },
    {
      "cell_type": "markdown",
      "metadata": {
        "id": "JfExaJf7g05W",
        "colab_type": "text"
      },
      "source": [
        "Conclusion:\n",
        "Observing the table above, it can be concluded that if a person watches a movie on left hand side he would like to watch movie on right hand side. This can be used to recommend movies to the user by the sites. "
      ]
    }
  ]
}